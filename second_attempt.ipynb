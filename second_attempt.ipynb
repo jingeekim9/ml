{
 "cells": [
  {
   "cell_type": "code",
   "execution_count": 6,
   "metadata": {},
   "outputs": [
    {
     "name": "stdout",
     "output_type": "stream",
     "text": [
      "Collecting keras\n",
      "  Using cached https://files.pythonhosted.org/packages/44/e1/dc0757b20b56c980b5553c1b5c4c32d378c7055ab7bfa92006801ad359ab/Keras-2.4.3-py2.py3-none-any.whl\n",
      "Requirement already satisfied: numpy>=1.9.1 in c:\\users\\user\\anaconda3\\envs\\tensorflow-gpu\\lib\\site-packages (from keras) (1.18.5)\n",
      "Requirement already satisfied: h5py in c:\\users\\user\\anaconda3\\envs\\tensorflow-gpu\\lib\\site-packages (from keras) (2.10.0)\n",
      "Collecting pyyaml (from keras)\n",
      "  Downloading https://files.pythonhosted.org/packages/4c/8e/89baf0c276d9c3a9e310cd6a32b1d9d24649ee9b89ea3ad0fb3ce86ee560/PyYAML-5.3.1-cp35-cp35m-win_amd64.whl (209kB)\n",
      "Requirement already satisfied: scipy>=0.14 in c:\\users\\user\\anaconda3\\envs\\tensorflow-gpu\\lib\\site-packages (from keras) (1.4.1)\n",
      "Requirement already satisfied: six in c:\\users\\user\\anaconda3\\envs\\tensorflow-gpu\\lib\\site-packages (from h5py->keras) (1.15.0)\n",
      "Installing collected packages: pyyaml, keras\n",
      "Successfully installed keras-2.4.3 pyyaml-5.3.1\n"
     ]
    },
    {
     "name": "stderr",
     "output_type": "stream",
     "text": [
      "You are using pip version 10.0.1, however version 20.3.4 is available.\n",
      "You should consider upgrading via the 'python -m pip install --upgrade pip' command.\n"
     ]
    }
   ],
   "source": [
    "!pip install keras"
   ]
  },
  {
   "cell_type": "code",
   "execution_count": 191,
   "metadata": {},
   "outputs": [],
   "source": [
    "import numpy as np # linear algebra\n",
    "import pandas as pd # data processing, CSV file I/O (e.g. pd.read_csv)\n",
    "\n",
    "from sklearn.feature_extraction.text import CountVectorizer\n",
    "from keras.preprocessing.text import Tokenizer\n",
    "from keras.preprocessing.sequence import pad_sequences\n",
    "from keras.models import Sequential\n",
    "from keras.layers import Dense, Embedding, LSTM, SpatialDropout1D\n",
    "from sklearn.model_selection import train_test_split\n",
    "from keras.utils.np_utils import to_categorical\n",
    "import re"
   ]
  },
  {
   "cell_type": "code",
   "execution_count": 192,
   "metadata": {},
   "outputs": [],
   "source": [
    "data = pd.read_csv('data_2021_spring/train.csv')\n",
    "# Keeping only the neccessary columns\n",
    "data = data[['text','stars']]"
   ]
  },
  {
   "cell_type": "code",
   "execution_count": 217,
   "metadata": {},
   "outputs": [],
   "source": [
    "data['text'] = data['text'].apply(lambda x: x.lower())\n",
    "data['text'] = data['text'].apply((lambda x: re.sub('[^a-zA-z0-9\\s]','',x)))\n",
    "    \n",
    "max_fatures = 2000\n",
    "tokenizer = Tokenizer(num_words=max_fatures, split=' ')\n",
    "tokenizer.fit_on_texts(data['text'].values)\n",
    "X = tokenizer.texts_to_sequences(data['text'].values)\n",
    "X = pad_sequences(X, maxlen = 800)"
   ]
  },
  {
   "cell_type": "code",
   "execution_count": 207,
   "metadata": {},
   "outputs": [
    {
     "name": "stdout",
     "output_type": "stream",
     "text": [
      "WARNING:tensorflow:Layer lstm_4 will not use cuDNN kernel since it doesn't meet the cuDNN kernel criteria. It will use generic GPU kernel as fallback when running on GPU\n",
      "Model: \"sequential_8\"\n",
      "_________________________________________________________________\n",
      "Layer (type)                 Output Shape              Param #   \n",
      "=================================================================\n",
      "embedding_4 (Embedding)      (None, 800, 128)          256000    \n",
      "_________________________________________________________________\n",
      "spatial_dropout1d_4 (Spatial (None, 800, 128)          0         \n",
      "_________________________________________________________________\n",
      "lstm_4 (LSTM)                (None, 196)               254800    \n",
      "_________________________________________________________________\n",
      "dense_4 (Dense)              (None, 5)                 985       \n",
      "=================================================================\n",
      "Total params: 511,785\n",
      "Trainable params: 511,785\n",
      "Non-trainable params: 0\n",
      "_________________________________________________________________\n",
      "None\n"
     ]
    }
   ],
   "source": [
    "embed_dim = 128\n",
    "lstm_out = 196\n",
    "\n",
    "model = Sequential()\n",
    "model.add(Embedding(max_fatures, embed_dim,input_length = X.shape[1]))\n",
    "model.add(SpatialDropout1D(0.4))\n",
    "model.add(LSTM(lstm_out, dropout=0.2, recurrent_dropout=0.2))\n",
    "model.add(Dense(5,activation='softmax'))\n",
    "model.compile(loss = 'categorical_crossentropy', optimizer='adam',metrics = ['accuracy'])\n",
    "print(model.summary())"
   ]
  },
  {
   "cell_type": "code",
   "execution_count": 196,
   "metadata": {},
   "outputs": [
    {
     "name": "stdout",
     "output_type": "stream",
     "text": [
      "(10000, 800) (10000, 5)\n"
     ]
    }
   ],
   "source": [
    "Y = pd.get_dummies(data['stars']).values\n",
    "print(X.shape,Y.shape)"
   ]
  },
  {
   "cell_type": "code",
   "execution_count": 197,
   "metadata": {},
   "outputs": [],
   "source": [
    "data2 = pd.read_csv('data_2021_spring/valid.csv')\n",
    "# Keeping only the neccessary columns\n",
    "data2 = data2[['text','stars']]"
   ]
  },
  {
   "cell_type": "code",
   "execution_count": 198,
   "metadata": {},
   "outputs": [
    {
     "data": {
      "text/html": [
       "<div>\n",
       "<style scoped>\n",
       "    .dataframe tbody tr th:only-of-type {\n",
       "        vertical-align: middle;\n",
       "    }\n",
       "\n",
       "    .dataframe tbody tr th {\n",
       "        vertical-align: top;\n",
       "    }\n",
       "\n",
       "    .dataframe thead th {\n",
       "        text-align: right;\n",
       "    }\n",
       "</style>\n",
       "<table border=\"1\" class=\"dataframe\">\n",
       "  <thead>\n",
       "    <tr style=\"text-align: right;\">\n",
       "      <th></th>\n",
       "      <th>text</th>\n",
       "      <th>stars</th>\n",
       "    </tr>\n",
       "  </thead>\n",
       "  <tbody>\n",
       "    <tr>\n",
       "      <th>0</th>\n",
       "      <td>Small coffee shop on the corner. Good coffee. ...</td>\n",
       "      <td>5</td>\n",
       "    </tr>\n",
       "    <tr>\n",
       "      <th>1</th>\n",
       "      <td>Food was okay. Eating off styrofoam with plast...</td>\n",
       "      <td>3</td>\n",
       "    </tr>\n",
       "    <tr>\n",
       "      <th>2</th>\n",
       "      <td>Not at all impressed with Jet...maybe its beca...</td>\n",
       "      <td>2</td>\n",
       "    </tr>\n",
       "    <tr>\n",
       "      <th>3</th>\n",
       "      <td>We got a 14\" pepperoni pizza I'd say it feeds ...</td>\n",
       "      <td>4</td>\n",
       "    </tr>\n",
       "    <tr>\n",
       "      <th>4</th>\n",
       "      <td>Unfortunately this location has terrible custo...</td>\n",
       "      <td>1</td>\n",
       "    </tr>\n",
       "  </tbody>\n",
       "</table>\n",
       "</div>"
      ],
      "text/plain": [
       "                                                text  stars\n",
       "0  Small coffee shop on the corner. Good coffee. ...      5\n",
       "1  Food was okay. Eating off styrofoam with plast...      3\n",
       "2  Not at all impressed with Jet...maybe its beca...      2\n",
       "3  We got a 14\" pepperoni pizza I'd say it feeds ...      4\n",
       "4  Unfortunately this location has terrible custo...      1"
      ]
     },
     "execution_count": 198,
     "metadata": {},
     "output_type": "execute_result"
    }
   ],
   "source": [
    "data2.head()"
   ]
  },
  {
   "cell_type": "code",
   "execution_count": 218,
   "metadata": {},
   "outputs": [],
   "source": [
    "data2['text'] = data2['text'].apply(lambda x: x.lower())\n",
    "data2['text'] = data2['text'].apply((lambda x: re.sub('[^a-zA-z0-9\\s]','',x)))\n",
    "    \n",
    "max_fatures = 2000\n",
    "# tokenizer.fit_on_texts(data2['text'].values)\n",
    "X_valid = tokenizer.texts_to_sequences(data2['text'].values)\n",
    "X_valid = pad_sequences(X_valid, maxlen = 800)"
   ]
  },
  {
   "cell_type": "code",
   "execution_count": 219,
   "metadata": {},
   "outputs": [],
   "source": [
    "Y_train = pd.get_dummies(data['stars']).values\n",
    "Y_valid = pd.get_dummies(data2['stars']).values"
   ]
  },
  {
   "cell_type": "code",
   "execution_count": 201,
   "metadata": {},
   "outputs": [
    {
     "data": {
      "text/plain": [
       "array([[   0,    0,    0, ...,  260,  152,  114],\n",
       "       [   0,    0,    0, ...,  420,  587,  145],\n",
       "       [   0,    0,    0, ...,   18,   62,    5],\n",
       "       ...,\n",
       "       [   0,    0,    0, ..., 1254,  104,  500],\n",
       "       [   0,    0,    0, ...,  197, 1803, 1417],\n",
       "       [   0,    0,    0, ...,    2,   32,   31]])"
      ]
     },
     "execution_count": 201,
     "metadata": {},
     "output_type": "execute_result"
    }
   ],
   "source": [
    "X_valid"
   ]
  },
  {
   "cell_type": "code",
   "execution_count": 202,
   "metadata": {},
   "outputs": [
    {
     "data": {
      "text/plain": [
       "(2000, 5)"
      ]
     },
     "execution_count": 202,
     "metadata": {},
     "output_type": "execute_result"
    }
   ],
   "source": [
    "Y_valid.shape"
   ]
  },
  {
   "cell_type": "code",
   "execution_count": 204,
   "metadata": {},
   "outputs": [
    {
     "name": "stdout",
     "output_type": "stream",
     "text": [
      "(10000, 800) (10000, 5)\n",
      "(2000, 800) (2000, 5)\n"
     ]
    }
   ],
   "source": [
    "X_train = X\n",
    "print(X_train.shape,Y_train.shape)\n",
    "print(X_valid.shape,Y_valid.shape)"
   ]
  },
  {
   "cell_type": "code",
   "execution_count": 208,
   "metadata": {},
   "outputs": [
    {
     "name": "stdout",
     "output_type": "stream",
     "text": [
      "Epoch 1/12\n",
      "313/313 [==============================] - 888s 3s/step - accuracy: 0.4141 - loss: 1.3434 - val_accuracy: 0.2505 - val_loss: 1.7864\n",
      "Epoch 2/12\n",
      "313/313 [==============================] - 865s 3s/step - accuracy: 0.5516 - loss: 1.0628 - val_accuracy: 0.2455 - val_loss: 2.0277\n",
      "Epoch 3/12\n",
      "313/313 [==============================] - 879s 3s/step - accuracy: 0.5920 - loss: 0.9674 - val_accuracy: 0.2360 - val_loss: 2.0545\n",
      "Epoch 4/12\n",
      "313/313 [==============================] - 870s 3s/step - accuracy: 0.6191 - loss: 0.9172 - val_accuracy: 0.2245 - val_loss: 2.2631\n",
      "Epoch 5/12\n",
      "313/313 [==============================] - 866s 3s/step - accuracy: 0.6453 - loss: 0.8533 - val_accuracy: 0.2305 - val_loss: 2.2140\n",
      "Epoch 6/12\n",
      "313/313 [==============================] - 880s 3s/step - accuracy: 0.6701 - loss: 0.8181 - val_accuracy: 0.2165 - val_loss: 2.4112\n",
      "Epoch 7/12\n",
      "313/313 [==============================] - 868s 3s/step - accuracy: 0.6943 - loss: 0.7537 - val_accuracy: 0.2370 - val_loss: 2.5288\n",
      "Epoch 8/12\n",
      "313/313 [==============================] - 865s 3s/step - accuracy: 0.7099 - loss: 0.7134 - val_accuracy: 0.2260 - val_loss: 2.5972\n",
      "Epoch 9/12\n",
      "313/313 [==============================] - 875s 3s/step - accuracy: 0.7299 - loss: 0.6767 - val_accuracy: 0.2330 - val_loss: 2.6279\n",
      "Epoch 10/12\n",
      "313/313 [==============================] - 889s 3s/step - accuracy: 0.7400 - loss: 0.6526 - val_accuracy: 0.2245 - val_loss: 2.8205\n",
      "Epoch 11/12\n",
      "313/313 [==============================] - 855s 3s/step - accuracy: 0.7607 - loss: 0.5986 - val_accuracy: 0.2415 - val_loss: 2.8844\n",
      "Epoch 12/12\n",
      "313/313 [==============================] - 856s 3s/step - accuracy: 0.7690 - loss: 0.5817 - val_accuracy: 0.2330 - val_loss: 3.0467\n"
     ]
    },
    {
     "data": {
      "text/plain": [
       "<tensorflow.python.keras.callbacks.History at 0x1f68823a588>"
      ]
     },
     "execution_count": 208,
     "metadata": {},
     "output_type": "execute_result"
    }
   ],
   "source": [
    "batch_size = 32\n",
    "model.fit(X_train, Y_train, epochs = 12, batch_size=batch_size, verbose = 1, validation_data = (X_valid, Y_valid))"
   ]
  },
  {
   "cell_type": "code",
   "execution_count": 220,
   "metadata": {},
   "outputs": [
    {
     "name": "stdout",
     "output_type": "stream",
     "text": [
      "63/63 [==============================] - 8s 129ms/step - accuracy: 0.5565 - loss: 1.2793\n",
      "score: 1.28\n",
      "acc: 0.56\n"
     ]
    }
   ],
   "source": [
    "score,acc = model.evaluate(X_valid, Y_valid, verbose = 1, batch_size = batch_size)\n",
    "print(\"score: %.2f\" % (score))\n",
    "print(\"acc: %.2f\" % (acc))"
   ]
  },
  {
   "cell_type": "code",
   "execution_count": 164,
   "metadata": {},
   "outputs": [],
   "source": [
    "data3 = pd.read_csv('data_2021_spring/test.csv')\n",
    "# Keeping only the neccessary columns\n",
    "data3 = data3[['text', 'useful']]"
   ]
  },
  {
   "cell_type": "code",
   "execution_count": 165,
   "metadata": {},
   "outputs": [],
   "source": [
    "data3['text'] = data3['text'].apply(lambda x: x.lower())\n",
    "data3['text'] = data3['text'].apply((lambda x: re.sub('[^a-zA-z0-9\\s]','',x)))\n",
    "\n",
    "for idx,row in data3.iterrows():\n",
    "    row[0] = row[0].replace('rt',' ')\n",
    "    \n",
    "max_fatures = 2000\n",
    "tokenizer3 = Tokenizer(num_words=max_fatures, split=' ')\n",
    "tokenizer3.fit_on_texts(data3['text'].values)\n",
    "X_test = tokenizer2.texts_to_sequences(data3['text'].values)\n",
    "X_test = pad_sequences(X_test)"
   ]
  },
  {
   "cell_type": "code",
   "execution_count": 166,
   "metadata": {},
   "outputs": [
    {
     "name": "stdout",
     "output_type": "stream",
     "text": [
      "WARNING:tensorflow:Model was constructed with shape (None, 901) for input Tensor(\"embedding_1_input:0\", shape=(None, 901), dtype=float32), but it was called on an input with incompatible shape (None, 815).\n",
      "63/63 [==============================] - 8s 130ms/step\n",
      "[[2.78522447e-02 9.11187291e-01 6.06728978e-02 2.56118219e-04\n",
      "  3.14944991e-05]\n",
      " [3.10580246e-03 3.56117473e-03 3.74854282e-02 7.94116616e-01\n",
      "  1.61731049e-01]\n",
      " [3.47217292e-01 4.83162522e-01 1.64265707e-01 1.01487339e-03\n",
      "  4.33964469e-03]\n",
      " ...\n",
      " [1.35483255e-03 2.67890375e-03 3.27204727e-02 5.53886473e-01\n",
      "  4.09359366e-01]\n",
      " [7.24423766e-01 2.15039581e-01 3.36555019e-02 6.83586393e-03\n",
      "  2.00452413e-02]\n",
      " [2.07964284e-03 1.70034748e-02 4.69133914e-01 4.06690061e-01\n",
      "  1.05092935e-01]]\n"
     ]
    }
   ],
   "source": [
    "results = model.predict(X_test, batch_size = batch_size, verbose = 1)\n",
    "print(results)"
   ]
  },
  {
   "cell_type": "code",
   "execution_count": 167,
   "metadata": {},
   "outputs": [
    {
     "data": {
      "text/plain": [
       "array([[2.78522447e-02, 9.11187291e-01, 6.06728978e-02, 2.56118219e-04,\n",
       "        3.14944991e-05],\n",
       "       [3.10580246e-03, 3.56117473e-03, 3.74854282e-02, 7.94116616e-01,\n",
       "        1.61731049e-01],\n",
       "       [3.47217292e-01, 4.83162522e-01, 1.64265707e-01, 1.01487339e-03,\n",
       "        4.33964469e-03],\n",
       "       ...,\n",
       "       [1.35483255e-03, 2.67890375e-03, 3.27204727e-02, 5.53886473e-01,\n",
       "        4.09359366e-01],\n",
       "       [7.24423766e-01, 2.15039581e-01, 3.36555019e-02, 6.83586393e-03,\n",
       "        2.00452413e-02],\n",
       "       [2.07964284e-03, 1.70034748e-02, 4.69133914e-01, 4.06690061e-01,\n",
       "        1.05092935e-01]], dtype=float32)"
      ]
     },
     "execution_count": 167,
     "metadata": {},
     "output_type": "execute_result"
    }
   ],
   "source": [
    "results"
   ]
  },
  {
   "cell_type": "code",
   "execution_count": 168,
   "metadata": {},
   "outputs": [
    {
     "data": {
      "text/html": [
       "<div>\n",
       "<style scoped>\n",
       "    .dataframe tbody tr th:only-of-type {\n",
       "        vertical-align: middle;\n",
       "    }\n",
       "\n",
       "    .dataframe tbody tr th {\n",
       "        vertical-align: top;\n",
       "    }\n",
       "\n",
       "    .dataframe thead th {\n",
       "        text-align: right;\n",
       "    }\n",
       "</style>\n",
       "<table border=\"1\" class=\"dataframe\">\n",
       "  <thead>\n",
       "    <tr style=\"text-align: right;\">\n",
       "      <th></th>\n",
       "      <th>1</th>\n",
       "      <th>2</th>\n",
       "      <th>3</th>\n",
       "      <th>4</th>\n",
       "      <th>5</th>\n",
       "    </tr>\n",
       "  </thead>\n",
       "  <tbody>\n",
       "    <tr>\n",
       "      <th>0</th>\n",
       "      <td>0.027852</td>\n",
       "      <td>0.911187</td>\n",
       "      <td>0.060673</td>\n",
       "      <td>0.000256</td>\n",
       "      <td>0.000031</td>\n",
       "    </tr>\n",
       "    <tr>\n",
       "      <th>1</th>\n",
       "      <td>0.003106</td>\n",
       "      <td>0.003561</td>\n",
       "      <td>0.037485</td>\n",
       "      <td>0.794117</td>\n",
       "      <td>0.161731</td>\n",
       "    </tr>\n",
       "    <tr>\n",
       "      <th>2</th>\n",
       "      <td>0.347217</td>\n",
       "      <td>0.483163</td>\n",
       "      <td>0.164266</td>\n",
       "      <td>0.001015</td>\n",
       "      <td>0.004340</td>\n",
       "    </tr>\n",
       "    <tr>\n",
       "      <th>3</th>\n",
       "      <td>0.042479</td>\n",
       "      <td>0.327837</td>\n",
       "      <td>0.333459</td>\n",
       "      <td>0.272492</td>\n",
       "      <td>0.023733</td>\n",
       "    </tr>\n",
       "    <tr>\n",
       "      <th>4</th>\n",
       "      <td>0.019480</td>\n",
       "      <td>0.135372</td>\n",
       "      <td>0.509945</td>\n",
       "      <td>0.272626</td>\n",
       "      <td>0.062577</td>\n",
       "    </tr>\n",
       "    <tr>\n",
       "      <th>...</th>\n",
       "      <td>...</td>\n",
       "      <td>...</td>\n",
       "      <td>...</td>\n",
       "      <td>...</td>\n",
       "      <td>...</td>\n",
       "    </tr>\n",
       "    <tr>\n",
       "      <th>1995</th>\n",
       "      <td>0.010049</td>\n",
       "      <td>0.654123</td>\n",
       "      <td>0.325179</td>\n",
       "      <td>0.009888</td>\n",
       "      <td>0.000761</td>\n",
       "    </tr>\n",
       "    <tr>\n",
       "      <th>1996</th>\n",
       "      <td>0.010083</td>\n",
       "      <td>0.095824</td>\n",
       "      <td>0.363412</td>\n",
       "      <td>0.437269</td>\n",
       "      <td>0.093411</td>\n",
       "    </tr>\n",
       "    <tr>\n",
       "      <th>1997</th>\n",
       "      <td>0.001355</td>\n",
       "      <td>0.002679</td>\n",
       "      <td>0.032720</td>\n",
       "      <td>0.553886</td>\n",
       "      <td>0.409359</td>\n",
       "    </tr>\n",
       "    <tr>\n",
       "      <th>1998</th>\n",
       "      <td>0.724424</td>\n",
       "      <td>0.215040</td>\n",
       "      <td>0.033656</td>\n",
       "      <td>0.006836</td>\n",
       "      <td>0.020045</td>\n",
       "    </tr>\n",
       "    <tr>\n",
       "      <th>1999</th>\n",
       "      <td>0.002080</td>\n",
       "      <td>0.017003</td>\n",
       "      <td>0.469134</td>\n",
       "      <td>0.406690</td>\n",
       "      <td>0.105093</td>\n",
       "    </tr>\n",
       "  </tbody>\n",
       "</table>\n",
       "<p>2000 rows × 5 columns</p>\n",
       "</div>"
      ],
      "text/plain": [
       "             1         2         3         4         5\n",
       "0     0.027852  0.911187  0.060673  0.000256  0.000031\n",
       "1     0.003106  0.003561  0.037485  0.794117  0.161731\n",
       "2     0.347217  0.483163  0.164266  0.001015  0.004340\n",
       "3     0.042479  0.327837  0.333459  0.272492  0.023733\n",
       "4     0.019480  0.135372  0.509945  0.272626  0.062577\n",
       "...        ...       ...       ...       ...       ...\n",
       "1995  0.010049  0.654123  0.325179  0.009888  0.000761\n",
       "1996  0.010083  0.095824  0.363412  0.437269  0.093411\n",
       "1997  0.001355  0.002679  0.032720  0.553886  0.409359\n",
       "1998  0.724424  0.215040  0.033656  0.006836  0.020045\n",
       "1999  0.002080  0.017003  0.469134  0.406690  0.105093\n",
       "\n",
       "[2000 rows x 5 columns]"
      ]
     },
     "execution_count": 168,
     "metadata": {},
     "output_type": "execute_result"
    }
   ],
   "source": [
    "df = pd.DataFrame(results, columns = ['1', '2', '3', '4', '5'])\n",
    "df"
   ]
  },
  {
   "cell_type": "code",
   "execution_count": 81,
   "metadata": {},
   "outputs": [
    {
     "data": {
      "text/html": [
       "<div>\n",
       "<style scoped>\n",
       "    .dataframe tbody tr th:only-of-type {\n",
       "        vertical-align: middle;\n",
       "    }\n",
       "\n",
       "    .dataframe tbody tr th {\n",
       "        vertical-align: top;\n",
       "    }\n",
       "\n",
       "    .dataframe thead th {\n",
       "        text-align: right;\n",
       "    }\n",
       "</style>\n",
       "<table border=\"1\" class=\"dataframe\">\n",
       "  <thead>\n",
       "    <tr style=\"text-align: right;\">\n",
       "      <th></th>\n",
       "      <th>text</th>\n",
       "      <th>stars</th>\n",
       "    </tr>\n",
       "  </thead>\n",
       "  <tbody>\n",
       "    <tr>\n",
       "      <th>0</th>\n",
       "      <td>nice to have a diner still around food was goo...</td>\n",
       "      <td>4</td>\n",
       "    </tr>\n",
       "    <tr>\n",
       "      <th>1</th>\n",
       "      <td>tried this a while back got the fried chicken ...</td>\n",
       "      <td>2</td>\n",
       "    </tr>\n",
       "    <tr>\n",
       "      <th>2</th>\n",
       "      <td>i expected more pork selections on menu food v...</td>\n",
       "      <td>4</td>\n",
       "    </tr>\n",
       "    <tr>\n",
       "      <th>3</th>\n",
       "      <td>yummy this place is phenomenal it is pricey bu...</td>\n",
       "      <td>4</td>\n",
       "    </tr>\n",
       "    <tr>\n",
       "      <th>4</th>\n",
       "      <td>the truffle macaroni  cheese and potatoes au g...</td>\n",
       "      <td>5</td>\n",
       "    </tr>\n",
       "    <tr>\n",
       "      <th>...</th>\n",
       "      <td>...</td>\n",
       "      <td>...</td>\n",
       "    </tr>\n",
       "    <tr>\n",
       "      <th>9995</th>\n",
       "      <td>i think most people like this place because of...</td>\n",
       "      <td>2</td>\n",
       "    </tr>\n",
       "    <tr>\n",
       "      <th>9996</th>\n",
       "      <td>thought id give this location a try from the o...</td>\n",
       "      <td>1</td>\n",
       "    </tr>\n",
       "    <tr>\n",
       "      <th>9997</th>\n",
       "      <td>i first tried this place a while ago and ever ...</td>\n",
       "      <td>4</td>\n",
       "    </tr>\n",
       "    <tr>\n",
       "      <th>9998</th>\n",
       "      <td>yummy yummy yummy i got the chicken fried stea...</td>\n",
       "      <td>5</td>\n",
       "    </tr>\n",
       "    <tr>\n",
       "      <th>9999</th>\n",
       "      <td>4 stars for the beer selection 1 star for the ...</td>\n",
       "      <td>2</td>\n",
       "    </tr>\n",
       "  </tbody>\n",
       "</table>\n",
       "<p>10000 rows × 2 columns</p>\n",
       "</div>"
      ],
      "text/plain": [
       "                                                   text  stars\n",
       "0     nice to have a diner still around food was goo...      4\n",
       "1     tried this a while back got the fried chicken ...      2\n",
       "2     i expected more pork selections on menu food v...      4\n",
       "3     yummy this place is phenomenal it is pricey bu...      4\n",
       "4     the truffle macaroni  cheese and potatoes au g...      5\n",
       "...                                                 ...    ...\n",
       "9995  i think most people like this place because of...      2\n",
       "9996  thought id give this location a try from the o...      1\n",
       "9997  i first tried this place a while ago and ever ...      4\n",
       "9998  yummy yummy yummy i got the chicken fried stea...      5\n",
       "9999  4 stars for the beer selection 1 star for the ...      2\n",
       "\n",
       "[10000 rows x 2 columns]"
      ]
     },
     "execution_count": 81,
     "metadata": {},
     "output_type": "execute_result"
    }
   ],
   "source": [
    "data2"
   ]
  },
  {
   "cell_type": "code",
   "execution_count": 221,
   "metadata": {},
   "outputs": [
    {
     "name": "stdout",
     "output_type": "stream",
     "text": [
      "WARNING:tensorflow:From c:\\users\\user\\anaconda3\\envs\\tensorflow-gpu\\lib\\site-packages\\tensorflow\\python\\training\\tracking\\tracking.py:111: Model.state_updates (from tensorflow.python.keras.engine.training) is deprecated and will be removed in a future version.\n",
      "Instructions for updating:\n",
      "This property should not be used in TensorFlow 2.0, as updates are applied automatically.\n",
      "WARNING:tensorflow:From c:\\users\\user\\anaconda3\\envs\\tensorflow-gpu\\lib\\site-packages\\tensorflow\\python\\training\\tracking\\tracking.py:111: Layer.updates (from tensorflow.python.keras.engine.base_layer) is deprecated and will be removed in a future version.\n",
      "Instructions for updating:\n",
      "This property should not be used in TensorFlow 2.0, as updates are applied automatically.\n",
      "INFO:tensorflow:Assets written to: second_attempt\\assets\n"
     ]
    }
   ],
   "source": [
    "model.save(\"second_attempt\")"
   ]
  },
  {
   "cell_type": "code",
   "execution_count": null,
   "metadata": {},
   "outputs": [],
   "source": []
  }
 ],
 "metadata": {
  "kernelspec": {
   "display_name": "Python 3",
   "language": "python",
   "name": "python3"
  },
  "language_info": {
   "codemirror_mode": {
    "name": "ipython",
    "version": 3
   },
   "file_extension": ".py",
   "mimetype": "text/x-python",
   "name": "python",
   "nbconvert_exporter": "python",
   "pygments_lexer": "ipython3",
   "version": "3.8.5"
  }
 },
 "nbformat": 4,
 "nbformat_minor": 4
}
